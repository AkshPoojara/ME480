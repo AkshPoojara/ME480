{
 "cells": [
  {
   "cell_type": "code",
   "execution_count": 1,
   "metadata": {},
   "outputs": [
    {
     "name": "stdout",
     "output_type": "stream",
     "text": [
      "{'tasks': [{'description': 'Milk, Cheese, Pizza, Fruit, Tylenol', 'done': False, 'id': 1, 'title': 'Buy groceries'}, {'description': 'Need to find a good Python tutorial on the web', 'done': False, 'id': 2, 'title': 'Learn Python'}, {'description': '', 'done': False, 'id': 3, 'title': 'Read a book'}]}\n"
     ]
    }
   ],
   "source": [
    "# importing the requests library \n",
    "import requests \n",
    "  \n",
    "# api-endpoint \n",
    "URL = \"http://localhost:5000/todo/api/v1.0/tasks\"\n",
    "  \n",
    "# sending get request and saving the response as response object \n",
    "r = requests.get(url = URL) \n",
    "  \n",
    "# extracting data in json format \n",
    "data = r.json() \n",
    "print(data)"
   ]
  },
  {
   "cell_type": "code",
   "execution_count": 10,
   "metadata": {},
   "outputs": [
    {
     "name": "stdout",
     "output_type": "stream",
     "text": [
      "The pastebin URL is:{'task': {'description': '', 'done': False, 'id': 5, 'title': 'Take a nap'}}\n"
     ]
    }
   ],
   "source": [
    "URL = \"http://localhost:5000/todo/api/v1.0/tasks\"\n",
    "data = {\"title\":\"Take a nap\"} \n",
    "# sending post request and saving response as response object \n",
    "r = requests.post(url = URL, json = data) \n",
    "  \n",
    "# extracting response text  \n",
    "pastebin_url = r.json()\n",
    "print(\"The pastebin URL is:%s\"%pastebin_url) "
   ]
  },
  {
   "cell_type": "code",
   "execution_count": null,
   "metadata": {},
   "outputs": [],
   "source": []
  }
 ],
 "metadata": {
  "kernelspec": {
   "display_name": "Python 3",
   "language": "python",
   "name": "python3"
  },
  "language_info": {
   "codemirror_mode": {
    "name": "ipython",
    "version": 3
   },
   "file_extension": ".py",
   "mimetype": "text/x-python",
   "name": "python",
   "nbconvert_exporter": "python",
   "pygments_lexer": "ipython3",
   "version": "3.7.3"
  }
 },
 "nbformat": 4,
 "nbformat_minor": 2
}
