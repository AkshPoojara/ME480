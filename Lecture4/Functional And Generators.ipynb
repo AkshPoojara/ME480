{
 "cells": [
  {
   "cell_type": "markdown",
   "metadata": {},
   "source": [
    "Generators are Great for Infinite Series\n",
    "\n",
    "$S_k = \\sum_{n=0}^{k}a_n = a_0 + a_1 + \\cdots + a_k$\n",
    "\n",
    "$L = \\sum_{n=0}^{\\infty}a_n \\Leftrightarrow L = \\lim_{k \\rightarrow \\infty} S_k$"
   ]
  },
  {
   "attachments": {},
   "cell_type": "markdown",
   "metadata": {},
   "source": [
    "Lets look at the Reimman Zeta Function\n",
    "\n",
    "\n",
    "$\\zeta(s) = \\sum_{n=1}^{\\infty} \\frac{1}{n^s} = \\frac{1}{1^s} + \\frac{1}{2^s} + \\frac{1}{3^s} + \\cdots$"
   ]
  },
  {
   "cell_type": "code",
   "execution_count": 53,
   "metadata": {},
   "outputs": [],
   "source": [
    "def Zeta_part(s,p=True):\n",
    "    n = 1\n",
    "    while True:\n",
    "        val = 1/(n**s)\n",
    "        if p == True:\n",
    "            print(\"Zeta({})_{} = {}\".format(s,n,val))\n",
    "        yield val\n",
    "        n+=1\n"
   ]
  },
  {
   "cell_type": "code",
   "execution_count": 49,
   "metadata": {},
   "outputs": [
    {
     "name": "stdout",
     "output_type": "stream",
     "text": [
      "Zeta(1)_1 = 1.0\n",
      "Zeta(1)_1 = 1.0\n",
      "Zeta(1)_1 = 1.0\n",
      "Zeta(1)_1 = 1.0\n"
     ]
    },
    {
     "data": {
      "text/plain": [
       "1.0"
      ]
     },
     "execution_count": 49,
     "metadata": {},
     "output_type": "execute_result"
    }
   ],
   "source": [
    "next(Zeta_part(1))\n",
    "next(Zeta_part(1))\n",
    "next(Zeta_part(1))\n",
    "next(Zeta_part(1))"
   ]
  },
  {
   "cell_type": "markdown",
   "metadata": {},
   "source": [
    "Why did this not work?\n",
    "\n",
    "Because we kept remakeing the generator. The solution is to name the generator we make, similar to how we do list comprehensions."
   ]
  },
  {
   "cell_type": "code",
   "execution_count": 39,
   "metadata": {},
   "outputs": [
    {
     "name": "stdout",
     "output_type": "stream",
     "text": [
      "Zeta(1)_1 = 1.0\n"
     ]
    },
    {
     "data": {
      "text/plain": [
       "1.0"
      ]
     },
     "execution_count": 39,
     "metadata": {},
     "output_type": "execute_result"
    }
   ],
   "source": [
    "Zeta_1_n = Zeta_part(1)\n",
    "next(Zeta_1_n)"
   ]
  },
  {
   "cell_type": "code",
   "execution_count": 40,
   "metadata": {},
   "outputs": [
    {
     "name": "stdout",
     "output_type": "stream",
     "text": [
      "Zeta(1)_2 = 0.5\n",
      "Zeta(1)_3 = 0.3333333333333333\n",
      "Zeta(1)_4 = 0.25\n",
      "Zeta(1)_5 = 0.2\n"
     ]
    },
    {
     "data": {
      "text/plain": [
       "0.2"
      ]
     },
     "execution_count": 40,
     "metadata": {},
     "output_type": "execute_result"
    }
   ],
   "source": [
    "next(Zeta_1_n)\n",
    "next(Zeta_1_n)\n",
    "next(Zeta_1_n)\n",
    "next(Zeta_1_n)"
   ]
  },
  {
   "cell_type": "markdown",
   "metadata": {},
   "source": [
    "So now that we have the parts, How do we take calculate the whole $\\zeta$ function? \n",
    "\n",
    "Well this would take an infinite amount of time to do this way, but we can take it for up to a certain number of $\\zeta(s)_n$ \n",
    "such that $\\zeta(s)~=\\sum_{n=1}^{k}\\zeta(s)_n$"
   ]
  },
  {
   "cell_type": "code",
   "execution_count": 63,
   "metadata": {},
   "outputs": [
    {
     "name": "stdout",
     "output_type": "stream",
     "text": [
      "Zeta_2 from n=1 to n=5 is approximately\n",
      " 1.4636111111111112,\n",
      "and is off by\n",
      " 0.1813229557371152\n",
      "from the true value\n"
     ]
    }
   ],
   "source": [
    "import math\n",
    "import itertools\n",
    "\n",
    "Zeta_2_n = Zeta_part(2,False)\n",
    "N = 5\n",
    "\n",
    "Z_n = itertools.islice(Zeta_2_n,N)\n",
    "Zeta_2 = sum(Z_n)\n",
    "\n",
    "diff =  (math.pi**2)/6-Zeta_2\n",
    "print(\"Zeta_2 from n=1 to n={} is approximately\\n {},\\nand is off by\\n {}\\nfrom the true value\".format(N,Zeta_2,diff))\n"
   ]
  },
  {
   "cell_type": "markdown",
   "metadata": {},
   "source": [
    "NEXT\n",
    "    Partial - Show on function with 2 inputs"
   ]
  },
  {
   "cell_type": "code",
   "execution_count": null,
   "metadata": {},
   "outputs": [],
   "source": []
  }
 ],
 "metadata": {
  "kernelspec": {
   "display_name": "Python 3",
   "language": "python",
   "name": "python3"
  },
  "language_info": {
   "codemirror_mode": {
    "name": "ipython",
    "version": 3
   },
   "file_extension": ".py",
   "mimetype": "text/x-python",
   "name": "python",
   "nbconvert_exporter": "python",
   "pygments_lexer": "ipython3",
   "version": "3.6.5"
  }
 },
 "nbformat": 4,
 "nbformat_minor": 2
}
