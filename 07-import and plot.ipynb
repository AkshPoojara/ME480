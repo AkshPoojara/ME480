{
 "cells": [
  {
   "cell_type": "markdown",
   "metadata": {
    "nbpresent": {
     "id": "ccdcc2e1-452c-4d8b-8268-ae37e1f69782"
    }
   },
   "source": [
    "# This is a sample Jupyter notebook that introduces some basics of Python."
   ]
  },
  {
   "cell_type": "markdown",
   "metadata": {},
   "source": [
    "Python is an interpreted language. No compiling is needed (which makes development easier). Python supports object -oriented programming, but we will stick to basics including assigning values, defining functions, executing functions, printing and plotting results."
   ]
  },
  {
   "cell_type": "code",
   "execution_count": 1,
   "metadata": {},
   "outputs": [],
   "source": [
    "%matplotlib notebook\n",
    "\n",
    "import matplotlib.pyplot as plt"
   ]
  },
  {
   "cell_type": "markdown",
   "metadata": {},
   "source": [
    "### Importing modules, packages, and libraries"
   ]
  },
  {
   "cell_type": "markdown",
   "metadata": {},
   "source": [
    "There are many useful Python auxiliary libraries that expand on the basic functionalities of Python. We will be very interested in libraries such as NumPy for scientific computation with arrays and matplotlib for plotting, and you will also want to use the functions that you create yourself. With many different people creating many different libraries, it is very likely that multiple functions will end up with the same name, and the interpreter needs to be able to distinguish between these different functions. Ptyhon's approach to this involves the \"namespace\" concept. Each library/module/package is imported under a name that, with an appended period, serves as a prefix to the names in the library/module/package. The combination of the prefix plus function name supports a disambiguated naming system. If the library name is so long that you do not want to type it repeatedly, you can import under a shortened prefix of your own choosing. In the examples below, the lines \"import numpy as np\" and \"import matplotlib as plt\" import library functionality using abbreviated names."
   ]
  },
  {
   "cell_type": "code",
   "execution_count": 40,
   "metadata": {},
   "outputs": [
    {
     "data": {
      "text/plain": [
       "(1.0, 2.23606797749979)"
      ]
     },
     "execution_count": 40,
     "metadata": {},
     "output_type": "execute_result"
    }
   ],
   "source": [
    "import math # basic math including trig functions, square root, etc.\n",
    "math.cos(0), math.sqrt(5)"
   ]
  },
  {
   "cell_type": "code",
   "execution_count": 35,
   "metadata": {},
   "outputs": [],
   "source": [
    "import numpy as np# Python numerical computing library: Arrays!"
   ]
  },
  {
   "cell_type": "code",
   "execution_count": 36,
   "metadata": {},
   "outputs": [
    {
     "data": {
      "text/plain": [
       "3.141592653589793"
      ]
     },
     "execution_count": 36,
     "metadata": {},
     "output_type": "execute_result"
    }
   ],
   "source": [
    "np.pi"
   ]
  },
  {
   "cell_type": "code",
   "execution_count": 37,
   "metadata": {},
   "outputs": [
    {
     "data": {
      "text/plain": [
       "array([3.14159265, 3.14159265, 3.14159265, 3.14159265])"
      ]
     },
     "execution_count": 37,
     "metadata": {},
     "output_type": "execute_result"
    }
   ],
   "source": [
    "np.pi * np.ones(4)"
   ]
  },
  {
   "cell_type": "code",
   "execution_count": 44,
   "metadata": {
    "collapsed": true
   },
   "outputs": [],
   "source": [
    "t =  np.linspace(0,2*np.pi,10)"
   ]
  },
  {
   "cell_type": "code",
   "execution_count": 45,
   "metadata": {},
   "outputs": [
    {
     "data": {
      "text/plain": [
       "array([ 0.        ,  0.6981317 ,  1.3962634 ,  2.0943951 ,  2.7925268 ,\n",
       "        3.4906585 ,  4.1887902 ,  4.88692191,  5.58505361,  6.28318531])"
      ]
     },
     "execution_count": 45,
     "metadata": {},
     "output_type": "execute_result"
    }
   ],
   "source": [
    "t"
   ]
  },
  {
   "cell_type": "code",
   "execution_count": 42,
   "metadata": {},
   "outputs": [],
   "source": [
    "s = np.empty(10) # for unititialized values\n",
    "t = np.zeros(10) # for array initialized to zero"
   ]
  },
  {
   "cell_type": "markdown",
   "metadata": {},
   "source": [
    "Loop over the t array using an index to access the values in order and store sin(t) at the corresponding position in the s array."
   ]
  },
  {
   "cell_type": "code",
   "execution_count": 43,
   "metadata": {},
   "outputs": [],
   "source": [
    "for i in range(10):\n",
    "    s[i] = math.sin(t[i])"
   ]
  },
  {
   "cell_type": "code",
   "execution_count": 49,
   "metadata": {},
   "outputs": [
    {
     "data": {
      "text/plain": [
       "array([  0.00000000e+00,   6.42787610e-01,   9.84807753e-01,\n",
       "         8.66025404e-01,   3.42020143e-01,  -3.42020143e-01,\n",
       "        -8.66025404e-01,  -9.84807753e-01,  -6.42787610e-01,\n",
       "        -2.44929360e-16])"
      ]
     },
     "execution_count": 49,
     "metadata": {},
     "output_type": "execute_result"
    }
   ],
   "source": [
    "s"
   ]
  },
  {
   "cell_type": "markdown",
   "metadata": {},
   "source": [
    "Now rectify the function by looping over the s array, and changing the sign if the value is negative."
   ]
  },
  {
   "cell_type": "code",
   "execution_count": 47,
   "metadata": {},
   "outputs": [],
   "source": [
    "for i in range(10):\n",
    "    if s[i] < 0:\n",
    "        s[i] *= -1 # Equiv. to s[i] = - s[i]"
   ]
  },
  {
   "cell_type": "code",
   "execution_count": 48,
   "metadata": {},
   "outputs": [
    {
     "data": {
      "text/plain": [
       "array([0., 0., 0., 0., 0., 0., 0., 0., 0., 0.])"
      ]
     },
     "execution_count": 48,
     "metadata": {},
     "output_type": "execute_result"
    }
   ],
   "source": [
    "s"
   ]
  },
  {
   "cell_type": "markdown",
   "metadata": {},
   "source": [
    "Import the plotting library and plot the rectified sin function."
   ]
  },
  {
   "cell_type": "code",
   "execution_count": 50,
   "metadata": {},
   "outputs": [
    {
     "data": {
      "image/png": "[encoded data removed]",
      "text/plain": [
       "<Figure size 432x288 with 1 Axes>"
      ]
     },
     "metadata": {
      "needs_background": "light"
     },
     "output_type": "display_data"
    }
   ],
   "source": [
    "import matplotlib.pyplot as plt\n",
    "plt.plot(t,s)\n",
    "plt.show()"
   ]
  },
  {
   "cell_type": "markdown",
   "metadata": {},
   "source": [
    "This looks pretty ugly, but try changing the number of points to something larger than 10 and re-running the commands to create a nicer plot and (VERY IMPORTANT) figure out how to label the axis. A plot without labels conveys no real information!"
   ]
  },
  {
   "cell_type": "markdown",
   "metadata": {},
   "source": [
    "## Putting the pieces together."
   ]
  },
  {
   "cell_type": "markdown",
   "metadata": {},
   "source": [
    "Let's use the code above to create some function definitions. Let's start with a function to be named rectSinArr(tmin, tmax, n) that computes an array of values of the rectified sin function. The arguments are the minimum and maximum values of the argument of sin function, and the number of values to compute equally spaced across the interval."
   ]
  },
  {
   "cell_type": "code",
   "execution_count": 51,
   "metadata": {},
   "outputs": [],
   "source": [
    "def rectSinArr(tmin, tmax, n):\n",
    "    t = np.linspace(tmin, tmax, n)\n",
    "    a = np.zeros(n)\n",
    "    for i in range(n):\n",
    "        a[i] = math.sin(t[i])\n",
    "        if a[i] < 0:\n",
    "            a[i] *= -1\n",
    "    return a"
   ]
  },
  {
   "cell_type": "code",
   "execution_count": 52,
   "metadata": {},
   "outputs": [],
   "source": [
    "w = rectSinArr(0, 2*np.pi, 20)"
   ]
  },
  {
   "cell_type": "code",
   "execution_count": 53,
   "metadata": {},
   "outputs": [
    {
     "name": "stdout",
     "output_type": "stream",
     "text": [
      "[0.00000000e+00 3.24699469e-01 6.14212713e-01 8.37166478e-01\n",
      " 9.69400266e-01 9.96584493e-01 9.15773327e-01 7.35723911e-01\n",
      " 4.75947393e-01 1.64594590e-01 1.64594590e-01 4.75947393e-01\n",
      " 7.35723911e-01 9.15773327e-01 9.96584493e-01 9.69400266e-01\n",
      " 8.37166478e-01 6.14212713e-01 3.24699469e-01 2.44929360e-16]\n"
     ]
    }
   ],
   "source": [
    "print(w)"
   ]
  },
  {
   "cell_type": "code",
   "execution_count": 54,
   "metadata": {},
   "outputs": [
    {
     "data": {
      "image/png": "[encoded data removed]",
      "text/plain": [
       "<Figure size 432x288 with 1 Axes>"
      ]
     },
     "metadata": {
      "needs_background": "light"
     },
     "output_type": "display_data"
    }
   ],
   "source": [
    "plt.plot(w)\n",
    "plt.show()"
   ]
  },
  {
   "cell_type": "markdown",
   "metadata": {},
   "source": [
    "Consider an alternative approach so that the horizontal axis can be coordinate values instead of indices. Let's create a function that takes an array of coordinate values as input and computes the array of corresponding function values."
   ]
  },
  {
   "cell_type": "code",
   "execution_count": 156,
   "metadata": {
    "collapsed": true
   },
   "outputs": [],
   "source": [
    "def rectSinArr2(x):\n",
    "    n =  x.shape[0]\n",
    "    y =  np.zeros(n)\n",
    "    for i in range(n):\n",
    "        y[i] = math.sin(x[i])\n",
    "        if y[i] < 0:\n",
    "            y[i] *= -1\n",
    "    return y"
   ]
  },
  {
   "cell_type": "code",
   "execution_count": 167,
   "metadata": {},
   "outputs": [
    {
     "data": {
      "text/plain": [
       "array([  0.00000000e+00,   3.09016994e-01,   5.87785252e-01,\n",
       "         8.09016994e-01,   9.51056516e-01,   1.00000000e+00,\n",
       "         9.51056516e-01,   8.09016994e-01,   5.87785252e-01,\n",
       "         3.09016994e-01,   1.22464680e-16,   3.09016994e-01,\n",
       "         5.87785252e-01,   8.09016994e-01,   9.51056516e-01,\n",
       "         1.00000000e+00,   9.51056516e-01,   8.09016994e-01,\n",
       "         5.87785252e-01,   3.09016994e-01,   2.44929360e-16])"
      ]
     },
     "execution_count": 167,
     "metadata": {},
     "output_type": "execute_result"
    }
   ],
   "source": [
    "x = np.linspace(0, 2*np.pi, 21)\n",
    "y = rectSinArr2(x)\n",
    "y"
   ]
  },
  {
   "cell_type": "code",
   "execution_count": 164,
   "metadata": {},
   "outputs": [
    {
     "data": {
      "text/plain": [
       "<function matplotlib.pyplot.show>"
      ]
     },
     "execution_count": 164,
     "metadata": {},
     "output_type": "execute_result"
    }
   ],
   "source": [
    "plt.plot(x,y)\n",
    "plt.show"
   ]
  },
  {
   "cell_type": "markdown",
   "metadata": {},
   "source": [
    "Now create a function that produces a plot of the rectified sin wave based on an input array of coordinate values. Check out https://matplotlib.org/users/pyplot_tutorial.html\n",
    "for details on customizing your plots."
   ]
  },
  {
   "cell_type": "code",
   "execution_count": 175,
   "metadata": {
    "collapsed": true
   },
   "outputs": [],
   "source": [
    "def rectSinPlot(x):\n",
    "    y =  rectSinArr2(x)\n",
    "    plt.plot(x,y,'o')\n",
    "    plt.axis('scaled')\n",
    "    plt.xlabel('x')\n",
    "    plt.ylabel('y')\n",
    "    plt.show()"
   ]
  },
  {
   "cell_type": "code",
   "execution_count": 186,
   "metadata": {
    "scrolled": true
   },
   "outputs": [
    {
     "data": {
      "image/png": "[encoded data removed]",
      "text/plain": [
       "<matplotlib.figure.Figure at 0x1877ccd1c88>"
      ]
     },
     "metadata": {},
     "output_type": "display_data"
    }
   ],
   "source": [
    "rectSinPlot(x)"
   ]
  },
  {
   "cell_type": "markdown",
   "metadata": {},
   "source": [
    "It is also possible to import individual functions from a library (which suppresses the prefix), but be careful not to overwrite existing definitions."
   ]
  },
  {
   "cell_type": "markdown",
   "metadata": {
    "collapsed": true
   },
   "source": [
    "## How about we create a text file?"
   ]
  },
  {
   "cell_type": "markdown",
   "metadata": {},
   "source": [
    "To help us get familiar with text files in Python, we will create our own and write to it.  The \\n inside the\n",
    "text string is a new line character."
   ]
  },
  {
   "cell_type": "code",
   "execution_count": 9,
   "metadata": {},
   "outputs": [],
   "source": [
    "file = open(\"myfile.txt\",\"w\") \n",
    " \n",
    "file.write(\"Hello ME480\\n\") \n",
    "file.write(\"We made a new text file\\n\") \n",
    "file.write(\"with three lines.\\n\") \n",
    " \n",
    "file.close() "
   ]
  },
  {
   "cell_type": "markdown",
   "metadata": {},
   "source": [
    "Now we have two tasks: 1 - to find the file we just created and 2 - open it with a text file reader (aka Notepad or Notepad++)"
   ]
  },
  {
   "cell_type": "markdown",
   "metadata": {},
   "source": [
    "1 - the file is located in folder C:\\users\\youruser\n",
    "2 - double clip it to open it from the file browser."
   ]
  }
 ],
 "metadata": {
  "anaconda-cloud": {},
  "kernelspec": {
   "display_name": "Python 3",
   "language": "python",
   "name": "python3"
  },
  "language_info": {
   "codemirror_mode": {
    "name": "ipython",
    "version": 3
   },
   "file_extension": ".py",
   "mimetype": "text/x-python",
   "name": "python",
   "nbconvert_exporter": "python",
   "pygments_lexer": "ipython3",
   "version": "3.7.3"
  },
  "nbpresent": {
   "slides": {
    "7eeb077a-e755-4b5e-8ab6-e5ac0ee6e50f": {
     "id": "7eeb077a-e755-4b5e-8ab6-e5ac0ee6e50f",
     "prev": null,
     "regions": {
      "71d146dd-5de2-4123-a2df-161f61f6b6c9": {
       "attrs": {
        "height": 0.8,
        "width": 0.8,
        "x": 0.1,
        "y": 0.1
       },
       "id": "71d146dd-5de2-4123-a2df-161f61f6b6c9"
      }
     },
     "theme": null
    }
   },
   "themes": {
    "default": "c30fc3f6-ed32-475b-9e04-4df894f62eb3",
    "theme": {}
   }
  }
 },
 "nbformat": 4,
 "nbformat_minor": 1
}
