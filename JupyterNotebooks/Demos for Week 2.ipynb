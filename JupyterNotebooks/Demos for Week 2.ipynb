{
 "cells": [
  {
   "cell_type": "code",
   "execution_count": null,
   "metadata": {},
   "outputs": [],
   "source": [
    "%matplotlib inline\n",
    "import numpy as np\n",
    "import matplotlib.pyplot as plt\n",
    "\n",
    "def plotF(func):\n",
    "    X = np.linspace(-20, 20, 10000, endpoint=True)\n",
    "    vfunc = np.vectorize(func)\n",
    "    R = vfunc(X)\n",
    "\n",
    "    plt.plot(X, R)\n",
    "    plt.show()"
   ]
  },
  {
   "cell_type": "code",
   "execution_count": null,
   "metadata": {},
   "outputs": [],
   "source": [
    "def sawtooth(a):\n",
    "    ''' Sawtooth function with period 10 and range -1 to 1 R->R'''\n",
    "    x = a%10\n",
    "    # need a line of y=mx+b that goes from -1 to 1\n",
    "    # y = -1 at x=0 so b=  -1\n",
    "    # y=1 at x=10  so 1 = m(10)-1    2=10m  m=1/5\n",
    "    return 1/5.0*x-1.0\n",
    "\n",
    "plotF(sawtooth)"
   ]
  },
  {
   "cell_type": "code",
   "execution_count": null,
   "metadata": {},
   "outputs": [],
   "source": []
  }
 ],
 "metadata": {
  "kernelspec": {
   "display_name": "Python 3",
   "language": "python",
   "name": "python3"
  },
  "language_info": {
   "codemirror_mode": {
    "name": "ipython",
    "version": 3
   },
   "file_extension": ".py",
   "mimetype": "text/x-python",
   "name": "python",
   "nbconvert_exporter": "python",
   "pygments_lexer": "ipython3",
   "version": "3.7.3"
  }
 },
 "nbformat": 4,
 "nbformat_minor": 2
}
