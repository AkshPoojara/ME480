{
 "cells": [
  {
   "cell_type": "code",
   "execution_count": 2,
   "metadata": {},
   "outputs": [
    {
     "name": "stdout",
     "output_type": "stream",
     "text": [
      "this is a test\n",
      "Called test\n",
      "this is a test\n"
     ]
    }
   ],
   "source": [
    "def logger(func):\n",
    "    def inner(*args, **kwargs):\n",
    "        print('Called '+func.__name__)\n",
    "        func(*args, **kwargs)\n",
    "    return inner\n",
    "\n",
    "\n",
    "def test():\n",
    "    print('this is a test')\n",
    "\n",
    "logTest = logger(test)\n",
    "test()\n",
    "\n",
    "logTest()"
   ]
  },
  {
   "cell_type": "markdown",
   "metadata": {},
   "source": [
    "This is great. we can wrap a function with another functions, but What is we just want to ALWAYS wrap the function\n",
    "\n",
    "This is where the syntatic sugar of decorators comes in. We use the @ symbol to wrap the function"
   ]
  },
  {
   "cell_type": "code",
   "execution_count": 4,
   "metadata": {},
   "outputs": [
    {
     "name": "stdout",
     "output_type": "stream",
     "text": [
      "Called test\n",
      "this is a test\n"
     ]
    }
   ],
   "source": [
    "def logger(func):\n",
    "    def inner(*args, **kwargs):\n",
    "        print('Called '+func.__name__)\n",
    "        func(*args, **kwargs)\n",
    "    return inner\n",
    "\n",
    "@logger\n",
    "def test():\n",
    "    print('this is a test')\n",
    "\n",
    "test()"
   ]
  },
  {
   "cell_type": "markdown",
   "metadata": {},
   "source": [
    "Great! we auto wrap the function. Infact we can wrap a function twice!"
   ]
  },
  {
   "cell_type": "code",
   "execution_count": 6,
   "metadata": {},
   "outputs": [
    {
     "name": "stdout",
     "output_type": "stream",
     "text": [
      "Called test\n",
      "this is a test\n",
      "Called test\n",
      "this is a test\n"
     ]
    }
   ],
   "source": [
    "def do_twice(func):\n",
    "    def wrapper_do_twice(*args, **kwargs):\n",
    "        func(*args, **kwargs)\n",
    "        return func(*args, **kwargs)\n",
    "    return wrapper_do_twice\n",
    "\n",
    "@do_twice\n",
    "@logger\n",
    "def test():\n",
    "    print('this is a test')\n",
    "    \n",
    "test()"
   ]
  },
  {
   "cell_type": "markdown",
   "metadata": {},
   "source": [
    " There is just one small problem"
   ]
  },
  {
   "cell_type": "code",
   "execution_count": 5,
   "metadata": {},
   "outputs": [
    {
     "name": "stdout",
     "output_type": "stream",
     "text": [
      "inner\n"
     ]
    }
   ],
   "source": [
    "print(test.__name__)"
   ]
  },
  {
   "cell_type": "markdown",
   "metadata": {},
   "source": [
    "This ends up confusing the name of the function. Whoops. Luckily there is a simple fix. "
   ]
  },
  {
   "cell_type": "code",
   "execution_count": 9,
   "metadata": {},
   "outputs": [
    {
     "name": "stdout",
     "output_type": "stream",
     "text": [
      "Called test\n",
      "this is a test\n",
      "Called test\n",
      "this is a test\n",
      "The Function is called test\n"
     ]
    }
   ],
   "source": [
    "import functools\n",
    "\n",
    "def do_twice(func):\n",
    "    @functools.wraps(func)\n",
    "    def wrapper_do_twice(*args, **kwargs):\n",
    "        func(*args, **kwargs)\n",
    "        return func(*args, **kwargs)\n",
    "    return wrapper_do_twice\n",
    "\n",
    "def logger(func):\n",
    "    @functools.wraps(func)\n",
    "    def inner(*args, **kwargs):\n",
    "        print('Called '+func.__name__)\n",
    "        func(*args, **kwargs)\n",
    "    return inner\n",
    "\n",
    "@do_twice\n",
    "@logger\n",
    "def test():\n",
    "    print(\"this is a test\")\n",
    "\n",
    "test()\n",
    "print(\"The Function is called \"+test.__name__)"
   ]
  },
  {
   "cell_type": "markdown",
   "metadata": {},
   "source": [
    "So everything works the way it should! \n",
    "\n",
    "But what is going on with that functools decorator? We are passing a function to a decorator? how does that work?"
   ]
  },
  {
   "cell_type": "code",
   "execution_count": 14,
   "metadata": {},
   "outputs": [
    {
     "name": "stdout",
     "output_type": "stream",
     "text": [
      "test\n",
      "test\n",
      "test\n",
      "test\n"
     ]
    }
   ],
   "source": [
    "def repeat(num_times):\n",
    "    def decorator_repeat(func):\n",
    "        @functools.wraps(func)\n",
    "        def wrapper_repeat(*args, **kwargs):\n",
    "            for _ in range(num_times):\n",
    "                value = func(*args, **kwargs)\n",
    "            return value\n",
    "        return wrapper_repeat\n",
    "    return decorator_repeat\n",
    "\n",
    "@repeat(4)\n",
    "def test():\n",
    "    print (\"test\")\n",
    "    \n",
    "test()"
   ]
  },
  {
   "cell_type": "code",
   "execution_count": null,
   "metadata": {},
   "outputs": [],
   "source": []
  }
 ],
 "metadata": {
  "kernelspec": {
   "display_name": "Python 3",
   "language": "python",
   "name": "python3"
  },
  "language_info": {
   "codemirror_mode": {
    "name": "ipython",
    "version": 3
   },
   "file_extension": ".py",
   "mimetype": "text/x-python",
   "name": "python",
   "nbconvert_exporter": "python",
   "pygments_lexer": "ipython3",
   "version": "3.7.3"
  }
 },
 "nbformat": 4,
 "nbformat_minor": 2
}
